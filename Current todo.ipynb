{
 "cells": [
  {
   "cell_type": "markdown",
   "metadata": {},
   "source": [
    "### Currently working on:"
   ]
  },
  {
   "cell_type": "markdown",
   "metadata": {},
   "source": [
    "\n",
    "right now: fix the averaging of trajectories to reflect the hour offset properly. Use xarray or pandas or just clever arrays.\n",
    "\n",
    "- big picture: **finish table in paper**\n",
    "- add profile data to aircraft_lagrangian_case\n",
    "\n",
    "\n",
    "- big picture: add trajectory plots to paper\n",
    "- littler: make trajectory lagrangian class work\n",
    "- **write plot-a-case cose** \n",
    "\n",
    "\n",
    "New fsking todo:  \n",
    "for Chris:  \n",
    "***ERA5 Ensemble stuff***\n",
    "Add paper to dropbox  \n",
    "Add figures  \n",
    "\n",
    "\n",
    "-everything to EIS  "
   ]
  },
  {
   "cell_type": "code",
   "execution_count": null,
   "metadata": {},
   "outputs": [],
   "source": [
    "\n",
    "\n",
    "\n"
   ]
  }
 ],
 "metadata": {
  "kernelspec": {
   "display_name": "Python [default]",
   "language": "python",
   "name": "python3"
  },
  "language_info": {
   "codemirror_mode": {
    "name": "ipython",
    "version": 3
   },
   "file_extension": ".py",
   "mimetype": "text/x-python",
   "name": "python",
   "nbconvert_exporter": "python",
   "pygments_lexer": "ipython3",
   "version": "3.5.6"
  }
 },
 "nbformat": 4,
 "nbformat_minor": 2
}
