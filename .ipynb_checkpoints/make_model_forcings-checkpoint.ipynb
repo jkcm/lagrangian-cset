{
 "cells": [
  {
   "cell_type": "code",
   "execution_count": 1,
   "metadata": {},
   "outputs": [],
   "source": [
    "import matplotlib.pyplot as plt\n",
    "from matplotlib.dates import date2num\n",
    "import numpy as np\n",
    "import os\n",
    "import glob\n",
    "import xarray as xr\n",
    "import utils\n",
    "from LoopTimer import LoopTimer\n",
    "import met_utils as mu\n",
    "from importlib import reload\n",
    "import pickle\n",
    "from scipy.stats import linregress\n",
    "import inversion_heights as inv\n",
    "import datetime as dt\n",
    "from subprocess import check_call\n",
    "import CSET_data_classes as cd\n",
    "from geopy import distance\n",
    "from lagrangian_case import TrajectoryCase, AircraftCase, CombinedCase, all_cases\n",
    "import unified_traj_data\n",
    "\n",
    "%load_ext autoreload\n",
    "%autoreload 2"
   ]
  },
  {
   "cell_type": "code",
   "execution_count": null,
   "metadata": {},
   "outputs": [],
   "source": [
    "def do_the_whole_damn_case(case_num):\n",
    "\n",
    "    savedir = r'/home/disk/eos4/jkcm/Data/CSET/model_forcings/case_L{:02d}'.format(case_num)\n",
    "\n",
    "    \n",
    "    \n",
    "    "
   ]
  },
  {
   "cell_type": "code",
   "execution_count": 5,
   "metadata": {},
   "outputs": [
    {
     "name": "stdout",
     "output_type": "stream",
     "text": [
      "02\n"
     ]
    }
   ],
   "source": [
    "print('{:02d}'.format(2))"
   ]
  },
  {
   "cell_type": "code",
   "execution_count": null,
   "metadata": {},
   "outputs": [],
   "source": [
    "\n",
    "\n",
    "\n",
    "\n",
    "\n",
    "\n",
    "#load a case\n",
    "#locate all profiles (including overflow)\n",
    "#locate all trajectories\n",
    "#get forward ERA/GOES\n",
    "#get back ERA\n",
    "\n",
    "#make a folder\n",
    "#save:\n",
    "    #profiles\n",
    "    #map\n",
    "    #fwd trajectories with ERA\n",
    "    #back trajectories with ERA\n",
    "    "
   ]
  }
 ],
 "metadata": {
  "kernelspec": {
   "display_name": "Python [default]",
   "language": "python",
   "name": "python3"
  },
  "language_info": {
   "codemirror_mode": {
    "name": "ipython",
    "version": 3
   },
   "file_extension": ".py",
   "mimetype": "text/x-python",
   "name": "python",
   "nbconvert_exporter": "python",
   "pygments_lexer": "ipython3",
   "version": "3.5.6"
  }
 },
 "nbformat": 4,
 "nbformat_minor": 2
}
