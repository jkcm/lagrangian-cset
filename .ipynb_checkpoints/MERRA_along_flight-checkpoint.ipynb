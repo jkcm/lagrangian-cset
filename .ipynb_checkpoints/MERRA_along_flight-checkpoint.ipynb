{
 "cells": [
  {
   "cell_type": "markdown",
   "metadata": {},
   "source": [
    "1) unify aer, asm, chm \n",
    "    svc_MERRA2_400.inst3_3d_aer_Nv.20150627.nc4\n",
    "        MERRA2_400.inst3_3d_chm_Nv.20150701.SUB.nc\n",
    "        MERRA2_400.inst3_3d_asm_Nv.20150623.SUB.nc\n",
    "        \n",
    "2) load flight path        \n",
    "3) extract along flight path based on pressure"
   ]
  },
  {
   "cell_type": "code",
   "execution_count": 53,
   "metadata": {},
   "outputs": [
    {
     "name": "stdout",
     "output_type": "stream",
     "text": [
      "The autoreload extension is already loaded. To reload it, use:\n",
      "  %reload_ext autoreload\n"
     ]
    }
   ],
   "source": [
    "import datetime as dt\n",
    "import sys\n",
    "from subprocess import check_output\n",
    "import os\n",
    "import xarray as xr\n",
    "\n",
    "%load_ext autoreload\n",
    "%autoreload 2"
   ]
  },
  {
   "cell_type": "code",
   "execution_count": 52,
   "metadata": {},
   "outputs": [],
   "source": [
    "date_range = [dt.datetime(2015, 6, 20) + dt.timedelta(days=i) for i in range(73)]\n",
    "for date in date_range:\n",
    "    aer_file = r'/home/disk/eos4/jkcm/Data/CSET/MERRA/aer_Nv/svc_MERRA2_400.inst3_3d_aer_Nv.{:%Y%m%d}.nc4'.format(date)\n",
    "    chm_file = r'/home/disk/eos4/jkcm/Data/CSET/MERRA/chm_Nv/MERRA2_400.inst3_3d_chm_Nv.{:%Y%m%d}.SUB.nc'.format(date)\n",
    "    asm_file = r'/home/disk/eos4/jkcm/Data/CSET/MERRA/asm_Nv/MERRA2_400.inst3_3d_asm_Nv.{:%Y%m%d}.SUB.nc'.format(date)\n",
    "    unified_file = r'/home/disk/eos4/jkcm/Data/CSET/MERRA/unified/MERRA.unified.{:%Y%m%d}.nc4'.format(date)\n",
    "    for f in [aer_file, chm_file, asm_file]:\n",
    "        if not os.path.exists(f):\n",
    "            print(f)\n",
    "    cdo_call = 'cdo merge {} {} {} {}'.format(aer_file, chm_file, asm_file, unified_file)\n",
    "#     print(cdo_call)\n",
    "#     check_output(cdo_call, shell=True, cwd = '/home/disk/p/jkcm')\n"
   ]
  },
  {
   "cell_type": "code",
   "execution_count": null,
   "metadata": {},
   "outputs": [],
   "source": [
    "os.listdir(r'/home/disk/eos4/jkcm/Data/CSET/MERRA/unified')\n",
    "\n",
    "# with xr.open_MFData"
   ]
  }
 ],
 "metadata": {
  "kernelspec": {
   "display_name": "Python [default]",
   "language": "python",
   "name": "python3"
  },
  "language_info": {
   "codemirror_mode": {
    "name": "ipython",
    "version": 3
   },
   "file_extension": ".py",
   "mimetype": "text/x-python",
   "name": "python",
   "nbconvert_exporter": "python",
   "pygments_lexer": "ipython3",
   "version": "3.5.5"
  }
 },
 "nbformat": 4,
 "nbformat_minor": 2
}
