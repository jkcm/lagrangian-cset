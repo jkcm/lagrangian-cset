{
 "cells": [
  {
   "cell_type": "markdown",
   "metadata": {},
   "source": [
    "We're gonna get, along a trajectory, some data for some models.\n",
    "trajectory: RF06 2.3 and RF10 6.0\n",
    "\n",
    "ERA5, 10member ensemble (so don't bother smoothing)\n",
    "Scalars:\n",
    "    SST\n",
    "    Sfc Pressure\n",
    "    time\n",
    "    lat\n",
    "    lon\n",
    "profiles:\n",
    "    u\n",
    "    v\n",
    "    T\n",
    "    q\n",
    "    omega\n",
    "    (u-utraj).grad(T)\n",
    "    (u-utraj).grad(q)\n",
    "\n",
    "MERRA2:\n",
    "(BL avg, FT avg)\n",
    "    Sulfate\n",
    "    Sea Salt\n",
    "    \n",
    "GOES:\n",
    "    CF\n",
    "    Nd\n",
    "    re\n",
    "    CTH\n",
    "    \n",
    "    \n",
    "    \n",
    "functions:\n",
    "1) load_trajectory\n",
    "    make it into an xarray\n",
    "2) add_ERA_data\n",
    "3) add_GOES_data\n",
    "4) add_MERRA_data\n",
    "5) save_xarray_to_netcdf\n",
    "\n"
   ]
  },
  {
   "cell_type": "code",
   "execution_count": 10,
   "metadata": {},
   "outputs": [
    {
     "name": "stdout",
     "output_type": "stream",
     "text": [
      "The autoreload extension is already loaded. To reload it, use:\n",
      "  %reload_ext autoreload\n"
     ]
    }
   ],
   "source": [
    "import datetime as dt\n",
    "import numpy as np\n",
    "import os\n",
    "import xarray as xr\n",
    "import utils\n",
    "import met_utils\n",
    "%matplotlib inline\n",
    "import matplotlib as mpl\n",
    "mpl.rcParams['figure.figsize'] = 12,5\n",
    "import matplotlib.pyplot as plt\n",
    "import glob\n",
    "import lagrangian_case as lc\n",
    "import pandas as pd\n",
    "from utils import read_tdump\n",
    "from itertools import cycle\n",
    "from geographiclib.geodesic import Geodesic\n",
    "import time\n",
    "\n",
    "%load_ext autoreload\n",
    "%autoreload 2"
   ]
  },
  {
   "cell_type": "code",
   "execution_count": 2,
   "metadata": {},
   "outputs": [],
   "source": [
    "def xarray_from_trajectory(rfnum, trajnum):\n",
    "    tdump = utils.load_flight_trajectory(rfnum, trajnum)\n",
    "    ds = xr.Dataset.from_dataframe(tdump).drop(['tnum', 'gnum', 'age'])\n",
    "    ds = ds.rename({'dtime': 'time'})\n",
    "\n",
    "    # assigning global attributes\n",
    "    global_attrs = [\n",
    "        {'Title': \"CSET Unified Trajectory Product\"},\n",
    "        {'institution': \"Department of Atmospheric Sciences, University of Washington\"},\n",
    "        {'contact': \"jkcm@uw.edu\"},\n",
    "        {'trajectory_setup': \"Trajectories were run isobarically \" +\n",
    "                            \"from an initialization height of 500m \" +\n",
    "                            \"for 72 hours, using GDAS analysis met data\"},\n",
    "        {'HYSPLIT': \"Trajectories run using HYSPLIT (Hybrid Single \"+\n",
    "                   \"Particle Lagrangian Integrated Trajectory Model). \"+\n",
    "                   \"Acknowledgements to the NOAA Air Resources Laboratory \"+\n",
    "                   \"(ARL) for the provision of the HYSPLIT transport and \"+\n",
    "                   \"dispersion model used in this publication.\"},\n",
    "        {'references': \"Stein, A.F., Draxler, R.R, Rolph, G.D., Stunder, \"+\n",
    "                      \"B.J.B., Cohen, M.D., and Ngan, F., (2015). NOAA's \"+\n",
    "                      \"HYSPLIT atmospheric transport and dispersion modeling \"+ \n",
    "                      \"system, Bull. Amer. Meteor. Soc., 96, 2059-2077, \"+\n",
    "                      \"http://dx.doi.org/10.1175/BAMS-D-14-00110.1\"},\n",
    "        {'CSET_flight': rfnum},\n",
    "        {'flight_trajectory': str(trajnum)}]\n",
    "    for i in global_attrs:  # note: an OrderedDict would be tidier, but does not unpack in order\n",
    "        ds = ds.assign_attrs(**i)\n",
    "    \n",
    "    # assigning variable attributes\n",
    "    var_attrs = {\n",
    "        'lon': {'long_name': 'longitude', \n",
    "                'units': 'degrees N'},\n",
    "        'lat': {'long_name': 'latitude',\n",
    "                'units': 'degrees E'},\n",
    "        'fhour': {'long_name': 'forecast_lead_time',\n",
    "                  'units': 'hours'},\n",
    "        'pres': {'long_name':'trajectory_pressure',\n",
    "                 'units': 'hPa'},\n",
    "        'height': {'long_name': 'trajectory_height_above_ground',\n",
    "                  'units': 'meters'}}\n",
    "    for k,v in var_attrs.items():\n",
    "        ds[k] = ds[k].assign_attrs(**v)\n",
    "    return ds\n",
    "\n",
    "\n",
    "def save_trajectory_to_netcdf(ds, location):\n",
    "    ds.to_netcdf(location)\n",
    "    \n",
    "def add_ERA_to_trajectory(ds, box_degrees=2):\n",
    "    \"\"\"Retrieve ERA5 data in a box around a trajectory\n",
    "    Assumes ERA5 data is 0.3x0.3 degrees\n",
    "    Returns an xarray Dataset\n",
    "    \"\"\"\n",
    "    lats, lons, times = ds.lat.values, ds.lon.values, ds.time.values\n",
    "    space_index = int(np.round(box_degrees/0.3/2)) # go up/down/left/right this many pixels\n",
    "    unique_days = set([utils.as_datetime(i).date() for i in times])\n",
    "    files = [os.path.join(utils.ERA_source, \"ERA5.pres.NEP.{:%Y-%m-%d}.nc\".format(i))\n",
    "             for i in unique_days]\n",
    "    with xr.open_mfdataset(sorted(files)) as data:\n",
    "        #return_ds = xr.Dataset(coords={'time': ds.coords['time'], 'level': data.coords['level']})\n",
    "        ds.coords['level'] = data.coords['level']\n",
    "        \n",
    "        #adding in q:\n",
    "        T = data['t'].values \n",
    "        RH = data['r'].values\n",
    "        p = np.broadcast_to(data.coords['level'].values[None, :, None, None], T.shape)*100\n",
    "        q = utils.qv_from_p_T_RH(p, T, RH)\n",
    "        data['q'] = (('time', 'level', 'latitude', 'longitude'), q)\n",
    "        data['q'] = data['q'].assign_attrs({'units': \"kg kg**-1\", \n",
    "                                'long_name': \"specific_humidity\",\n",
    "                                'dependencies': 'ERA_t, ERA_p, ERA_r'})\n",
    "        \n",
    "        # adding gradients in for z, t, and q. Assuming constant grid spacing.\n",
    "        for var in ['t', 'q', 'z', 'u', 'v']:\n",
    "            [_,_,dvardj, dvardi] = np.gradient(data[var].values)\n",
    "            dlatdy = 360/4.000786e7  # degrees lat per meter y\n",
    "            def get_dlondx(lat) : return(360/(np.cos(np.deg2rad(lat))*4.0075017e7))\n",
    "\n",
    "            lat_spaces = np.diff(data.coords['latitude'].values)\n",
    "            lon_spaces = np.diff(data.coords['longitude'].values)\n",
    "            assert(np.allclose(lat_spaces, -0.3, atol=0.01) and np.allclose(lon_spaces, 0.3, atol=0.05))\n",
    "            dlondi = np.mean(lon_spaces)\n",
    "            dlatdj = np.mean(lat_spaces)\n",
    "            dlondx = get_dlondx(data.coords['latitude'].values)\n",
    "            dvardx = dvardi/dlondi*dlondx[None,None,:,None]\n",
    "            dvardy = dvardj/dlatdj*dlatdy\n",
    "            data['d{}dx'.format(var)] = (('time', 'level', 'latitude', 'longitude'), dvardx)\n",
    "            data['d{}dy'.format(var)] = (('time', 'level', 'latitude', 'longitude'), dvardy)\n",
    "\n",
    "        grad_attrs = {'q': {'units': \"kg kg**-1 m**-1\",\n",
    "                            'long_name': \"{}_gradient_of_specific_humidity\",\n",
    "                            'dependencies': \"ERA_t, ERA_p, ERA_r\"},\n",
    "                      't':  {'units': \"K m**-1\",\n",
    "                            'long_name': \"{}_gradient_of_temperature\",\n",
    "                            'dependencies': \"ERA_t\"},\n",
    "                      'z':  {'units': \"m**2 s**-2 m**-1\",\n",
    "                            'long_name': \"{}_gradient_of_geopotential\",\n",
    "                            'dependencies': \"ERA_z\"},\n",
    "                      'u': {'units': \"m s**-1 m**-1\",\n",
    "                            'long_name': \"{}_gradient_of_zonal_wind\",\n",
    "                            'dependencies': \"ERA_u\"},\n",
    "                      'v': {'units': \"m s**-1 m**-1\",\n",
    "                            'long_name': \"{}_gradient_of_meridional_wind\",\n",
    "                            'dependencies': \"ERA_v\"}}\n",
    "\n",
    "        for key, val in grad_attrs.items():\n",
    "            for (n, drn) in [('x', 'eastward'), ('y', 'northward')]:\n",
    "                attrs = val.copy()\n",
    "                var = 'd{}d{}'.format(key, n)\n",
    "                attrs['long_name'] = attrs['long_name'].format(drn)\n",
    "                data[var] = data[var].assign_attrs(attrs)\n",
    "            \n",
    "        for var in data.data_vars.keys():\n",
    "            vals = []\n",
    "            for (lat, lon, time) in zip(lats, lons%360, times):\n",
    "                x = data[var].sel(longitude=slice(lon - box_degrees/2, lon + box_degrees/2),\n",
    "                                  latitude=slice(lat + box_degrees/2, lat - box_degrees/2))\n",
    "#                 print(time)\n",
    "#                 print(x.time[0])\n",
    "                z = x.sel(method='nearest', tolerance=np.timedelta64(minutes=59), time=time)\n",
    "                #z = y.sel(method='nearest', tolerance=50, level=pres)\n",
    "                #this applies a 2D gaussian the width of z, i.e. sigma=box_degrees\n",
    "                gauss = utils.gauss2D(shape=z.shape[1:], sigma=z.shape[0])\n",
    "                filtered = z.values * gauss\n",
    "                vals.append(np.sum(filtered, axis=(1,2)))\n",
    "            ds['ERA_'+var] = (('time', 'level'), np.array(vals))\n",
    "            ds['ERA_'+var] = ds['ERA_'+var].assign_attrs(data[var].attrs)\n",
    "            \n",
    "            \n",
    "        t_1000 = ds.ERA_t.sel(level=1000).values\n",
    "        theta_700 = met_utils.theta_from_p_T(p=700, T=ds.ERA_t.sel(level=700).values)\n",
    "        LTS = theta_700-t_1000\n",
    "        ds['ERA_LTS'] = (('time'), np.array(LTS))\n",
    "        ds['ERA_LTS'] = ds['ERA_LTS'].assign_attrs(\n",
    "                {\"long_name\": \"Lower tropospheric stability\",\n",
    "                 \"units\": \"K\",\n",
    "                 \"_FillValue\": \"NaN\"})\n",
    "        t_dew = t_1000-(100-ds.ERA_r.sel(level=1000).values)/5\n",
    "        lcl = met_utils.get_LCL(t=t_1000, t_dew=t_dew, z=ds.ERA_z.sel(level=1000).values/9.81)\n",
    "        z_700 = ds.ERA_z.sel(level=700).values/9.81\n",
    "        gamma_850 = met_utils.get_moist_adiabatic_lapse_rate(ds.ERA_t.sel(level=850).values, 850)\n",
    "        eis = LTS - gamma_850*(z_700-lcl)\n",
    "        ds['ERA_EIS'] = (('time'), np.array(eis))\n",
    "        ds['ERA_EIS'] = ds['ERA_EIS'].assign_attrs(\n",
    "                {\"long_name\": \"Estimated inversion strength\",\n",
    "                 \"units\": \"K\",\n",
    "                 \"_FillValue\": \"NaN\"})\n",
    "            \n",
    "    return ds\n",
    "    \n",
    "def add_MERRA_to_trajectory(ds, box_degrees=2):\n",
    "\n",
    "    lats, lons, times = ds.lat.values, ds.lon.values, utils.as_datetime(ds.time.values)\n",
    "    unique_days = set([utils.as_datetime(i).date() for i in times])\n",
    "    files = [os.path.join(utils.MERRA_source, \"svc_MERRA2_400.inst3_3d_aer_Nv.{:%Y%m%d}.nc4\".format(i))\n",
    "             for i in unique_days]\n",
    "    with xr.open_mfdataset(sorted(files)) as data:\n",
    "#     data = xr.open_mfdataset(sorted(files))\n",
    "#     if True:\n",
    "        ds.coords['lev'] = data.coords['lev']\n",
    "      \n",
    "        for var in data.data_vars.keys():\n",
    "\n",
    "#         var = 'RH'\n",
    "#         if True:\n",
    "        \n",
    "            vals = []\n",
    "            for (lat, lon, time) in zip(lats, lons, times):\n",
    "#             lat, lon, time = lats[1], lons[1], times[1]\n",
    "#             if True:\n",
    "                \n",
    "                time = time.replace(tzinfo=None)\n",
    "                x = data[var].sel(lon=slice(lon - box_degrees/2, lon + box_degrees/2),\n",
    "                                  lat=slice(lat - box_degrees/2, lat + box_degrees/2))\n",
    "                y = x.sel(method='nearest', tolerance=dt.timedelta(minutes=119), time=time)\n",
    "                z = y.sel(method='nearest', tolerance=50, level=pres)\n",
    "                #this applies a 2D gaussian the width of z, i.e. sigma=box_degrees\n",
    "                gauss = utils.gauss2D(shape=z.shape[1:], sigma=z.shape[1])\n",
    "                filtered = z.values * gauss\n",
    "                vals.append(np.sum(filtered, axis=(1,2)))\n",
    "                \n",
    "\n",
    "            ds['MERRA2_'+var] = (('time', 'level'), np.array(vals))\n",
    "            ds['MERRA2_'+var] = ds['MERRA2_'+var].assign_attrs(data[var].attrs)\n",
    "    return ds\n",
    "    \n",
    "    \n",
    "    \n",
    "#     var_list = ['SO4', 'RH']\n",
    "#         MERRA_ds = utils.get_MERRA_data(var_list=var_list, lats=lats, lons=lons, times=times,\n",
    "#                                    pressures=pressures, box_degrees=2)\n",
    "#         ds = xr.merge([ds, MERRA_ds.rename({'RH': 'MERRA_RH', 'SO4': 'MERRA_SO4', 'time': 'dtime'})])\n",
    "#         t_data.append(ds)\n",
    "    "
   ]
  },
  {
   "cell_type": "code",
   "execution_count": 3,
   "metadata": {},
   "outputs": [],
   "source": [
    " def add_speeds_to_trajectories(ds):\n",
    "    \"\"\"Add speed variables to trajectory. used centered difference of distances traveled\n",
    "    \"\"\"\n",
    "    lats, lons, times = ds.lat.values, ds.lon.values, ds.time.values\n",
    "    \n",
    "    heading_starts, heading_ends, seg_speeds = [], [], []\n",
    "    \n",
    "    for i in range(len(lats)-1):\n",
    "        geod = Geodesic.WGS84.Inverse(lats[i], lons[i], lats[i+1], lons[i+1])\n",
    "        dtime = (times[i+1]-times[i])/np.timedelta64(1, 's')\n",
    "        heading_starts.append(geod['azi1'])\n",
    "        heading_ends.append(geod['azi2'])\n",
    "        seg_speeds.append(geod['s12']/dtime)\n",
    "\n",
    "    #speeds are centered difference, except at start and end, where they are speeds of \n",
    "    #first and last trajectory segments\n",
    "    #headings are average of end azimuth of previous segment/start azimuth of next geodesic segment,\n",
    "    #except at start and end, where are just the start/end azimuths of the first/last geodesic\n",
    "    speeds = np.mean(np.vstack([seg_speeds+[seg_speeds[-1]],[seg_speeds[0]]+seg_speeds]), axis=0)\n",
    "    headings = np.mean(np.vstack([[heading_starts[0]]+heading_ends, heading_starts+[heading_ends[-1]]]), axis=0)\n",
    "    \n",
    "    u = speeds*np.cos(np.deg2rad(90-headings))\n",
    "    v = speeds*np.sin(np.deg2rad(90-headings))\n",
    "    \n",
    "    ds['traj_u'] = (('time'), u)\n",
    "    ds['traj_v'] = (('time'), v)\n",
    "    ds['traj_hdg'] = (('time'), headings)\n",
    "    ds['traj_spd'] = (('time'), speeds)\n",
    "    return ds"
   ]
  },
  {
   "cell_type": "code",
   "execution_count": 4,
   "metadata": {},
   "outputs": [],
   "source": [
    "def add_advection_to_trajectory(ds):\n",
    "    \"\"\"Add advection to trajectory after adding ERA data\n",
    "    \"\"\"\n",
    "    names = dict(u='ERA_u', v='ERA_v', u_t='traj_u', v_t='traj_v',\n",
    "                   dtdx='ERA_dtdx', dtdy='ERA_dtdy', dqdx='ERA_dqdx', dqdy='ERA_dqdy')\n",
    "    assert np.all([i in ds.data_vars.keys() for i in names.values()])\n",
    "    rel_adv_of_T = -((ds[names['u']].values-ds[names['u_t']].values[:, None])*ds[names['dtdx']].values + \\\n",
    "                   (ds[names['v']].values-ds[names['v_t']].values[:, None])*ds[names['dtdy']].values)\n",
    "    rel_adv_of_q = -((ds[names['u']].values-ds[names['u_t']].values[:, None])*ds[names['dqdx']].values + \\\n",
    "                   (ds[names['v']].values-ds[names['v_t']].values[:, None])*ds[names['dqdy']].values)\n",
    "    T_adv_attr = {'units': \"K s**-1\", \n",
    "                  'long_name': \"trajectory_relative_advection_of_temperature\",\n",
    "                  'dependencies': 'ERA_t, traj_u, traj_v, ERA_u, ERA_v'}\n",
    "    q_adv_attr = {'units': \"kg kg**-1 s**-1\", \n",
    "                  'long_name': \"trajectory_relative_advection_of_specific_humidity\",\n",
    "                  'dependencies': 'ERA_q, traj_u, traj_v, ERA_u, ERA_v'}\n",
    "        \n",
    "    ds['T_adv'] = (('time', 'level'), rel_adv_of_T)\n",
    "    ds['T_adv'] = ds['T_adv'].assign_attrs(**T_adv_attr)\n",
    "    \n",
    "    ds['q_adv'] = (('time', 'level'), rel_adv_of_q)\n",
    "    ds['q_adv'] = ds['q_adv'].assign_attrs(**q_adv_attr)\n",
    "    return ds"
   ]
  },
  {
   "cell_type": "code",
   "execution_count": 5,
   "metadata": {},
   "outputs": [],
   "source": [
    "def add_ERA_sfc_data(ds, box_degrees=2):\n",
    "    \n",
    "    lats, lons, times = ds.lat.values, ds.lon.values, ds.time.values\n",
    "    space_index = int(np.round(box_degrees/0.3/2)) # go up/down/left/right this many pixels\n",
    "    unique_days = set([utils.as_datetime(i).date() for i in times])\n",
    "    sfc_files = [os.path.join(utils.ERA_source, \"ERA5.sfc.NEP.{:%Y-%m-%d}.nc\".format(i))\n",
    "             for i in unique_days]\n",
    "    with xr.open_mfdataset(sorted(sfc_files)) as data:\n",
    "         for var in data.data_vars.keys():\n",
    "            vals = []\n",
    "            for (lat, lon, time) in zip(lats, lons%360, times):\n",
    "                x = data[var].sel(longitude=slice(lon - box_degrees/2, lon + box_degrees/2),\n",
    "                                  latitude=slice(lat + box_degrees/2, lat - box_degrees/2))\n",
    "                z = x.sel(method='nearest', tolerance=np.timedelta64(minutes=59), time=time)\n",
    "                gauss = utils.gauss2D(shape=z.shape, sigma=z.shape[0])\n",
    "                filtered = z.values * gauss\n",
    "                vals.append(np.sum(filtered))\n",
    "            ds['ERA_'+var] = (('time'), np.array(vals))\n",
    "            ds['ERA_'+var] = ds['ERA_'+var].assign_attrs(data[var].attrs)\n",
    "            \n",
    "#     lhf = ds['ERA_ie'].values*2264705\n",
    "#     ds['ERA_ilhf'] = (('time'), lhf)\n",
    "#     ds['ERA_ilhf'] = ds['ERA_ilhf'].assign_attrs({\"long_name\": \"Instantaneous surface latent heat flux\",\n",
    "#                                                   \"units\": \"W m**-2\",\n",
    "#                                                   \"_FillValue\": \"NaN\"})\n",
    "#     ds['ERA_'+var] = ds['ERA_'+var]\n",
    "\n",
    "    return ds"
   ]
  },
  {
   "cell_type": "code",
   "execution_count": 6,
   "metadata": {},
   "outputs": [],
   "source": [
    "def add_GOES_obs(ds):\n",
    "    #rfnum = ds['']\n",
    "    return ds"
   ]
  },
  {
   "cell_type": "code",
   "execution_count": 7,
   "metadata": {},
   "outputs": [],
   "source": [
    "def add_MODISPBL_to_trajectory(ds, box_degrees=3):\n",
    "    lats, lons, times = ds.lat.values, ds.lon.values, ds.time.values\n",
    "    MODIS_day_idx = np.argwhere([i.hour == 23 for i in utils.as_datetime(times)]).squeeze()\n",
    "    MODIS_night_idx = np.argwhere([i.hour == 11 for i in utils.as_datetime(times)]).squeeze()\n",
    "#     dayfile = '/home/disk/eos4/jkcm/Data/CSET/Ryan/Daily_1x1_JHISTO_CTH_c6_day_v2_calboxes_top10_Interp_hif_zb_2011-2016.nc'\n",
    "    dayfile = '/home/disk/eos4/jkcm/Data/CSET/Ryan/Daily_1x1_JHISTO_CTH_c6_day_v2_calboxes_top10_Interp_hif_zb_2011-2016_corrected.nc'\n",
    "    nightfile = '/home/disk/eos4/jkcm/Data/CSET/Ryan/Daily_1x1_JHISTO_CTH_c6_night_v2_calboxes_top10_Interp_hif_zb_2011-2016.nc'\n",
    "    vals = []   \n",
    "    stds = []\n",
    "    nanfrac = []\n",
    "    for i in range(len(times)):\n",
    "        if i in MODIS_day_idx:\n",
    "            f = dayfile\n",
    "        elif i in MODIS_night_idx:\n",
    "            f = nightfile\n",
    "        else:\n",
    "            vals.append(np.nan)\n",
    "            stds.append(np.nan)\n",
    "            nanfrac.append(np.nan)\n",
    "            continue\n",
    "        with xr.open_dataset(f) as data:\n",
    "            lat, lon, time = lats[i], lons[i], utils.as_datetime(times[i])\n",
    "            t_idx = np.argwhere(np.logical_and(data['days'].values == time.timetuple().tm_yday, \n",
    "                                   data['years'].values == time.year))[0][0]\n",
    "            x = data['cth'].sel(longitude=slice(lon - box_degrees/2, lon + box_degrees/2),\n",
    "                  latitude=slice(lat + box_degrees/2, lat - box_degrees/2))\n",
    "            z = x.isel(time=t_idx).values\n",
    "            vals.append(np.nanmean(z))\n",
    "            stds.append(np.nanstd(z))\n",
    "            nanfrac.append(np.sum(np.isnan(z))/z.size)\n",
    "    ds['MODIS_CTH'] = (('time'), np.array(vals))\n",
    "    ds['MODIS_CTH_std'] = (('time'), np.array(stds))\n",
    "    ds['MODIS_CTH_nanfrac'] = (('time'), np.array(nanfrac))\n",
    "    return ds"
   ]
  },
  {
   "cell_type": "code",
   "execution_count": 8,
   "metadata": {},
   "outputs": [
    {
     "name": "stdout",
     "output_type": "stream",
     "text": [
      "working on rf10_MODIS_traj_5.0.nc...\n",
      "adding ERA...\n",
      "adding advection...\n",
      "adding ERA sfc data...\n",
      "adding MODIS...\n",
      "adding MERRA...\n",
      "working on rf10_MODIS_traj_5.5.nc...\n",
      "adding ERA...\n",
      "adding advection...\n",
      "adding ERA sfc data...\n",
      "adding MODIS...\n",
      "adding MERRA...\n",
      "working on rf10_MODIS_traj_6.0.nc...\n",
      "adding ERA...\n",
      "adding advection...\n",
      "adding ERA sfc data...\n",
      "adding MODIS...\n",
      "adding MERRA...\n",
      "working on rf06_MODIS_traj_2.0.nc...\n",
      "adding ERA...\n",
      "adding advection...\n",
      "adding ERA sfc data...\n",
      "adding MODIS...\n",
      "adding MERRA...\n",
      "working on rf06_MODIS_traj_2.3.nc...\n",
      "adding ERA...\n",
      "adding advection...\n",
      "adding ERA sfc data...\n",
      "adding MODIS...\n",
      "adding MERRA...\n",
      "working on rf06_MODIS_traj_2.6.nc...\n",
      "adding ERA...\n",
      "adding advection...\n",
      "adding ERA sfc data...\n",
      "adding MODIS...\n",
      "adding MERRA...\n",
      "working on rf06_MODIS_traj_3.0.nc...\n",
      "adding ERA...\n",
      "adding advection...\n",
      "adding ERA sfc data...\n",
      "adding MODIS...\n",
      "adding MERRA...\n",
      "working on rf06_MODIS_traj_3.5.nc...\n",
      "adding ERA...\n",
      "adding advection...\n",
      "adding ERA sfc data...\n",
      "adding MODIS...\n",
      "adding MERRA...\n",
      "working on rf06_MODIS_traj_4.0.nc...\n",
      "adding ERA...\n",
      "adding advection...\n",
      "adding ERA sfc data...\n",
      "adding MODIS...\n",
      "adding MERRA...\n",
      "working on rf06_MODIS_traj_4.3.nc...\n",
      "adding ERA...\n",
      "adding advection...\n",
      "adding ERA sfc data...\n",
      "adding MODIS...\n",
      "adding MERRA...\n",
      "working on rf06_MODIS_traj_4.6.nc...\n",
      "adding ERA...\n",
      "adding advection...\n",
      "adding ERA sfc data...\n",
      "adding MODIS...\n",
      "adding MERRA...\n",
      "working on rf06_MODIS_traj_5.0.nc...\n",
      "adding ERA...\n",
      "adding advection...\n",
      "adding ERA sfc data...\n",
      "adding MODIS...\n",
      "adding MERRA...\n"
     ]
    }
   ],
   "source": [
    "def make_trajectory(rfnum, trajnum, save=False):\n",
    "    ds = xarray_from_trajectory(rfnum, trajnum)\n",
    "    ds = add_speeds_to_trajectories(ds)\n",
    "    print(\"adding ERA...\")\n",
    "    ds = add_ERA_to_trajectory(ds)\n",
    "    print('adding advection...')\n",
    "    ds = add_advection_to_trajectory(ds)\n",
    "    print('adding ERA sfc data...')\n",
    "    ds = add_ERA_sfc_data(ds)\n",
    "    ds = add_GOES_obs(ds)\n",
    "    print(\"adding MODIS...\")\n",
    "    ds = add_MODISPBL_to_trajectory(ds)\n",
    "    print(\"adding MERRA...\")\n",
    "#     ds = add_MERRA_to_trajectory(ds)\n",
    "    if save:\n",
    "        save_trajectory_to_netcdf(ds, save)\n",
    "    return ds\n",
    "\n",
    "#ds = add_ERA_sfc_data(ds)\n",
    "#ds = make_trajectory(rfnum='rf06', trajnum=2.3, save=False)\n",
    "#save_trajectory_to_netcdf(ds, r'/home/disk/eos4/jkcm/Data/CSET/model_forcings/rf06_traj_2.3_fullcolumn_withz.nc')\n",
    "\n",
    "all_trajs = {'rf06': [2.0, 2.3, 2.6, 3.0, 3.5, 4.0, 4.3, 4.6, 5.0],\n",
    "             'rf10': [5.0, 5.5, 6.0]}\n",
    "\n",
    "\n",
    "for flight, traj_list in all_trajs.items():\n",
    "    for traj in traj_list:\n",
    "        name = os.path.join(utils.trajectory_netcdf_dir, \"{}_MODIS_traj_{:0.1f}.nc\".format(flight, traj))\n",
    "        print(\"working on {}...\".format(os.path.basename(name)))\n",
    "        ds = make_trajectory(rfnum=flight, trajnum=traj, save=name);\n",
    "\n",
    "\n",
    "# ds = make_trajectory(rfnum='rf06', trajnum=2.3, save=False)\n",
    "# save_trajectory_to_netcdf(ds, r'/home/disk/eos4/jkcm/Data/CSET/Lagrangian_project/trajectory_files/rf06_MODIS_traj_2.3.nc')\n",
    "\n",
    "\n",
    "# ds = make_trajectory(rfnum='rf10', trajnum=6.0, save=False)\n",
    "# save_trajectory_to_netcdf(ds, r'/home/disk/eos4/jkcm/Data/CSET/Lagrangian_project/trajectory_files/rf10_MODIS_traj_6.0.nc')\n"
   ]
  },
  {
   "cell_type": "code",
   "execution_count": null,
   "metadata": {},
   "outputs": [],
   "source": [
    "data = xr.open_dataset(\"/home/disk/eos4/jkcm/Data/CSET/ERA5/ERA5.pres.NEP.2015-08-31.nc\")\n",
    "# print(data.data_vars.keys())\n",
    "# data2 = xr.open_dataset(\"/home/disk/eos4/jkcm/Data/CSET/ERA5/ERA5.sfc.NEP.2015-08-31.nc\")\n",
    "# data2.data_vars.keys()"
   ]
  },
  {
   "cell_type": "code",
   "execution_count": null,
   "metadata": {},
   "outputs": [],
   "source": [
    "dlatdy = 360/4.000786e7  # degrees lat per meter y\n",
    "def get_dlondx(lat) : return(360/(np.cos(np.deg2rad(lat))*4.0075017e7))\n",
    "var = 'z'\n",
    "\n",
    "[_,_,dvardj, dvardi] = np.gradient(data[var].values)\n",
    "\n",
    "\n",
    "levi = np.argwhere(data.coords['level'].values == 700)[0][0]\n",
    "\n",
    "lat_spaces = np.diff(data.coords['latitude'].values)\n",
    "lon_spaces = np.diff(data.coords['longitude'].values)\n",
    "assert(np.allclose(lat_spaces, -0.3, atol=0.01) and np.allclose(lon_spaces, 0.3, atol=0.05))\n",
    "dlondi = np.mean(lon_spaces)\n",
    "dlatdj = np.mean(lat_spaces)\n",
    "dlondx = get_dlondx(data.coords['latitude'].values)\n",
    "dvardx = dvardi/dlondi*dlondx[None,None,:,None]\n",
    "dvardy = dvardj/dlatdj*dlatdy"
   ]
  },
  {
   "cell_type": "code",
   "execution_count": 497,
   "metadata": {},
   "outputs": [],
   "source": [
    "var = 'z'\n",
    "[_,_,dvardj, dvardi] = np.gradient(data[var].values)\n",
    "dlatdy = 360/4.000786e7  # degrees lat per meter y\n",
    "def get_dlondx(lat) : return(360/(np.cos(np.deg2rad(lat))*4.0075017e7))\n",
    "\n",
    "lat_spaces = np.diff(data.coords['latitude'].values)\n",
    "lon_spaces = np.diff(data.coords['longitude'].values)\n",
    "assert(np.allclose(lat_spaces, -0.3, atol=0.01) and np.allclose(lon_spaces, 0.3, atol=0.05))\n",
    "dlondi = np.mean(lon_spaces)\n",
    "dlatdj = np.mean(lat_spaces)\n",
    "dlondx = get_dlondx(data.coords['latitude'].values)\n",
    "dvardx = dvardi/dlondi*dlondx[None,None,:,None]\n",
    "dvardy = dvardj/dlatdj*dlatdy\n",
    "data['d{}dx'.format(var)] = (('time', 'level', 'latitude', 'longitude'), dvardx)\n",
    "data['d{}dy'.format(var)] = (('time', 'level', 'latitude', 'longitude'), dvardy)\n",
    "data['dzdx'] = data['dzdx'].assign_attrs({'units': \"m s**-2\", \n",
    "                    'long_name': \"eastward_gradient_of_geopotential\",\n",
    "                    'dependencies': 'ERA_z'})\n",
    "data['dzdy'] = data['dzdy'].assign_attrs({'units': \"m s**-2\", \n",
    "                    'long_name': \"northward_gradient_of_geopotential\",\n",
    "                    'dependencies': 'ERA_z'})"
   ]
  },
  {
   "cell_type": "code",
   "execution_count": 498,
   "metadata": {},
   "outputs": [
    {
     "data": {
      "text/plain": [
       "0.001169770140167457"
      ]
     },
     "execution_count": 498,
     "metadata": {},
     "output_type": "execute_result"
    },
    {
     "data": {
      "image/png": "[encoded data removed]",
      "text/plain": [
       "<Figure size 864x360 with 2 Axes>"
      ]
     },
     "metadata": {},
     "output_type": "display_data"
    }
   ],
   "source": [
    "# dvardlat = dvardj/dlatdj\n",
    "# dvardy = dvardlat*dlatdy\n",
    "\n",
    "#plt.imshow(-dvardy[0,levi,:,:], vmin=-0.001, vmax=0.001)\n",
    "plt.imshow(data['dzdy'].values[0,levi,:,:], vmin=-0.001, vmax=0.001)\n",
    "plt.colorbar()\n",
    "\n",
    "dlatdy\n",
    "\n",
    "#dZdj = 30\n",
    "# so dZdlat is ~130 m/degree\n",
    "#and dlatdy is 1/(100*1000)\n",
    "# so dZdy is 1.30*10^-3  m/m, or about 0.001 m/m\n",
    "\n",
    "1/(100*1000)\n",
    "130*dlatdy"
   ]
  },
  {
   "cell_type": "code",
   "execution_count": 1,
   "metadata": {},
   "outputs": [
    {
     "ename": "NameError",
     "evalue": "name 'ds' is not defined",
     "output_type": "error",
     "traceback": [
      "\u001b[0;31m---------------------------------------------------------------------------\u001b[0m",
      "\u001b[0;31mNameError\u001b[0m                                 Traceback (most recent call last)",
      "\u001b[0;32m<ipython-input-1-f40db16e83d6>\u001b[0m in \u001b[0;36m<module>\u001b[0;34m()\u001b[0m\n\u001b[0;32m----> 1\u001b[0;31m \u001b[0msp\u001b[0m \u001b[0;34m=\u001b[0m \u001b[0mds\u001b[0m\u001b[0;34m[\u001b[0m\u001b[0;34m'ERA_sp'\u001b[0m\u001b[0;34m]\u001b[0m\u001b[0;34m.\u001b[0m\u001b[0mvalues\u001b[0m\u001b[0;34m\u001b[0m\u001b[0m\n\u001b[0m\u001b[1;32m      2\u001b[0m \u001b[0mdsdt\u001b[0m \u001b[0;34m=\u001b[0m \u001b[0mnp\u001b[0m\u001b[0;34m.\u001b[0m\u001b[0mgradient\u001b[0m\u001b[0;34m(\u001b[0m\u001b[0msp\u001b[0m\u001b[0;34m)\u001b[0m\u001b[0;34m/\u001b[0m\u001b[0mnp\u001b[0m\u001b[0;34m.\u001b[0m\u001b[0mfull_like\u001b[0m\u001b[0;34m(\u001b[0m\u001b[0msp\u001b[0m\u001b[0;34m,\u001b[0m \u001b[0;36m3600\u001b[0m\u001b[0;34m)\u001b[0m\u001b[0;34m\u001b[0m\u001b[0m\n\u001b[1;32m      3\u001b[0m \u001b[0;34m\u001b[0m\u001b[0m\n\u001b[1;32m      4\u001b[0m \u001b[0;31m# plt.plot(ds['ERA_sp'])\u001b[0m\u001b[0;34m\u001b[0m\u001b[0;34m\u001b[0m\u001b[0m\n\u001b[1;32m      5\u001b[0m \u001b[0;34m\u001b[0m\u001b[0m\n",
      "\u001b[0;31mNameError\u001b[0m: name 'ds' is not defined"
     ]
    }
   ],
   "source": [
    "sp = ds['ERA_sp'].values\n",
    "dsdt = np.gradient(sp)/np.full_like(sp, 3600)\n",
    "\n",
    "# plt.plot(ds['ERA_sp'])\n",
    "\n",
    "w_700 = ds['ERA_w'].sel(level=700)\n",
    "\n",
    "w_corr = w_700-dsdt\n",
    "plt.plot(w_700, label='w_700')\n",
    "plt.plot(w_corr, label='w_corr')\n",
    "plt.legend()\n",
    "\n",
    "# plt.plot(sp)\n",
    "\n",
    "#ds['ERA_w']"
   ]
  },
  {
   "cell_type": "code",
   "execution_count": 374,
   "metadata": {},
   "outputs": [
    {
     "data": {
      "text/plain": [
       "array([-24.10351894, -13.74787095])"
      ]
     },
     "execution_count": 374,
     "metadata": {},
     "output_type": "execute_result"
    }
   ],
   "source": [
    "dsdt[0:2]"
   ]
  },
  {
   "cell_type": "code",
   "execution_count": 375,
   "metadata": {},
   "outputs": [
    {
     "data": {
      "text/plain": [
       "array([102340.90053533, 102316.79701639, 102313.40479343])"
      ]
     },
     "execution_count": 375,
     "metadata": {},
     "output_type": "execute_result"
    }
   ],
   "source": [
    "sp[:3]"
   ]
  },
  {
   "cell_type": "code",
   "execution_count": 513,
   "metadata": {},
   "outputs": [
    {
     "data": {
      "text/plain": [
       "<matplotlib.legend.Legend at 0x7f1474712c50>"
      ]
     },
     "execution_count": 513,
     "metadata": {},
     "output_type": "execute_result"
    },
    {
     "data": {
      "image/png": "[encoded data removed]",
      "text/plain": [
       "<Figure size 864x360 with 1 Axes>"
      ]
     },
     "metadata": {},
     "output_type": "display_data"
    }
   ],
   "source": [
    "g = 9.81\n",
    "f = 1e-4\n",
    "\n",
    "dzdx = ds['ERA_dzdx'].values/g # m/m\n",
    "dzdy = ds['ERA_dzdy'].values/g # m/m\n",
    "u_geos = -g/f*dzdy\n",
    "v_geos = g/f*dzdx\n",
    "u = ds['ERA_u'].values\n",
    "v = ds['ERA_v'].values\n",
    "z = ds['ERA_z'].values/g/1000\n",
    "\n",
    "\n",
    "plt.plot(v_geos[0], z[0], label='u_geos')\n",
    "plt.plot(v[0], z[0], label='u')\n",
    "#plt.plot(dzdy[0], z[0])\n",
    "plt.ylim(0, 10)\n",
    "plt.legend()"
   ]
  },
  {
   "cell_type": "code",
   "execution_count": 510,
   "metadata": {},
   "outputs": [
    {
     "data": {
      "text/plain": [
       "(array([3.020000e+02, 1.251000e+03, 5.762000e+03, 1.731100e+04,\n",
       "        1.261154e+07, 9.773270e+05, 1.265100e+04, 5.261000e+03,\n",
       "        1.063000e+03, 1.080000e+02]),\n",
       " array([-0.02730016, -0.02174071, -0.01618125, -0.0106218 , -0.00506234,\n",
       "         0.00049711,  0.00605657,  0.01161603,  0.01717548,  0.02273494,\n",
       "         0.02829439]),\n",
       " <a list of 10 Patch objects>)"
      ]
     },
     "execution_count": 510,
     "metadata": {},
     "output_type": "execute_result"
    },
    {
     "data": {
      "image/png": "[encoded data removed]",
      "text/plain": [
       "<Figure size 864x360 with 1 Axes>"
      ]
     },
     "metadata": {},
     "output_type": "display_data"
    }
   ],
   "source": [
    "dZdx = data['dzdx'].values\n",
    "\n",
    "dZdx\n",
    "plt.hist(dZdx.flatten())"
   ]
  },
  {
   "cell_type": "code",
   "execution_count": 437,
   "metadata": {},
   "outputs": [
    {
     "name": "stdout",
     "output_type": "stream",
     "text": [
      "0.0004\n"
     ]
    }
   ],
   "source": [
    "g = 9.81\n",
    "f = 1e-4\n",
    "\n",
    "dZ = 40  #m\n",
    "dy = 100000 # m\n",
    "dZdy = dZ/dy\n",
    "\n",
    "u_geos = -g/f*dZdy\n",
    "print(dZdy)\n"
   ]
  },
  {
   "cell_type": "code",
   "execution_count": 47,
   "metadata": {},
   "outputs": [],
   "source": [
    "data = xr.open_dataset('/home/disk/eos4/jkcm/Data/CSET/Lagrangian_project/trajectory_files/rf06_traj_2.3.nc')\n",
    "data2 = xr.open_dataset('/home/disk/eos4/jkcm/Data/CSET/Lagrangian_project/trajectory_files/rf10_traj_6.0.nc')"
   ]
  },
  {
   "cell_type": "code",
   "execution_count": null,
   "metadata": {},
   "outputs": [],
   "source": [
    "\n",
    "hgts = data.ERA_z.sel(level=700)/9.18\n",
    "x_div = data.ERA_dudx.sel(level=slice(800, 1000)).mean(axis=1)*hgts\n",
    "y_div = data.ERA_dvdy.sel(level=slice(800, 1000)).mean(axis=1)*hgts\n",
    "w= data.ERA_w.sel(level=700)\n",
    "div = x_div + y_div\n",
    "\n",
    "\n",
    "hgts_2 = data2.ERA_z.sel(level=700)/9.18\n",
    "x_div_2 = data2.ERA_dudx.sel(level=slice(800, 1000)).mean(axis=1)*hgts_2\n",
    "y_div_2 = data2.ERA_dvdy.sel(level=slice(800, 1000)).mean(axis=1)*hgts_2\n",
    "w_2 = data2.ERA_w.sel(level=700)\n",
    "div_2 = x_div_2 + y_div_2"
   ]
  },
  {
   "cell_type": "code",
   "execution_count": 62,
   "metadata": {},
   "outputs": [
    {
     "data": {
      "image/png": "[encoded data removed]",
      "text/plain": [
       "<Figure size 432x288 with 1 Axes>"
      ]
     },
     "metadata": {},
     "output_type": "display_data"
    }
   ],
   "source": [
    "plt.plot(w, label='w_700')\n",
    "plt.plot(div, label='div')\n",
    "plt.plot(x_div, label='x-div')\n",
    "plt.plot(y_div, label='y-div')\n",
    "plt.legend()\n",
    "plt.title(\"RF06 traj 2.3\")\n",
    "plt.grid(True)"
   ]
  },
  {
   "cell_type": "code",
   "execution_count": 25,
   "metadata": {},
   "outputs": [
    {
     "name": "stdout",
     "output_type": "stream",
     "text": [
      "working on rf02_all_traj_1.0.nc...\n",
      "already exists!\n",
      "working on rf02_all_traj_1.5.nc...\n",
      "already exists!\n",
      "working on rf02_all_traj_2.0.nc...\n",
      "working on rf02_all_traj_0.5.nc...\n",
      "already exists!\n",
      "working on rf02_all_traj_1.0.nc...\n",
      "already exists!\n",
      "working on rf04_all_traj_2.0.nc...\n",
      "working on rf04_all_traj_2.3.nc...\n",
      "working on rf04_all_traj_2.5.nc...\n",
      "working on rf04_all_traj_3.0.nc...\n",
      "working on rf04_all_traj_0.5.nc...\n",
      "working on rf04_all_traj_1.0.nc...\n",
      "working on rf04_all_traj_2.0.nc...\n",
      "working on rf06_all_traj_3.0.nc...\n",
      "working on rf06_all_traj_3.5.nc...\n",
      "working on rf06_all_traj_4.0.nc...\n",
      "working on rf06_all_traj_4.3.nc...\n",
      "working on rf06_all_traj_4.6.nc...\n",
      "working on rf06_all_traj_5.0.nc...\n",
      "working on rf06_all_traj_1.6.nc...\n",
      "working on rf06_all_traj_2.0.nc...\n",
      "working on rf06_all_traj_2.3.nc...\n",
      "working on rf06_all_traj_2.6.nc...\n",
      "working on rf06_all_traj_3.0.nc...\n",
      "working on rf08_all_traj_4.0.nc...\n",
      "working on rf08_all_traj_4.5.nc...\n",
      "working on rf08_all_traj_5.0.nc...\n",
      "working on rf08_all_traj_3.0.nc...\n",
      "working on rf08_all_traj_3.5.nc...\n",
      "working on rf08_all_traj_1.0.nc...\n",
      "working on rf08_all_traj_1.5.nc...\n",
      "working on rf08_all_traj_2.0.nc...\n",
      "working on rf10_all_traj_5.0.nc...\n",
      "working on rf10_all_traj_5.5.nc...\n",
      "working on rf10_all_traj_6.0.nc...\n",
      "working on rf10_all_traj_3.0.nc...\n",
      "working on rf10_all_traj_3.5.nc...\n",
      "working on rf10_all_traj_4.0.nc...\n",
      "working on rf10_all_traj_5.0.nc...\n",
      "working on rf10_all_traj_1.0.nc...\n",
      "working on rf10_all_traj_1.5.nc...\n",
      "working on rf12_all_traj_4.5.nc...\n",
      "working on rf12_all_traj_5.0.nc...\n",
      "working on rf12_all_traj_3.5.nc...\n",
      "working on rf12_all_traj_1.5.nc...\n",
      "working on rf12_all_traj_2.5.nc...\n",
      "working on rf12_all_traj_3.0.nc...\n",
      "working on rf14_all_traj_3.5.nc...\n",
      "working on rf14_all_traj_4.0.nc...\n",
      "working on rf14_all_traj_3.0.nc...\n",
      "working on rf14_all_traj_1.0.nc...\n",
      "working on rf14_all_traj_2.0.nc...\n"
     ]
    }
   ],
   "source": [
    "\n",
    "for case_num, case in lc.all_cases.items():\n",
    "    flight = case['TLC_name'].split(\"_\")[1][:4].lower()\n",
    "    traj_list = case['TLC_name'].split('_')[2].split('-')\n",
    "    for traj in traj_list:\n",
    "        name = os.path.join(utils.trajectory_netcdf_dir, \"{}_all_traj_{}.nc\".format(flight, traj))\n",
    "        print(\"working on {}...\".format(os.path.basename(name)))\n",
    "        if os.path.exists(name):\n",
    "            print(\"already exists!\")\n",
    "            continue\n",
    "#         ds = make_trajectory(rfnum=flight, trajnum=float(traj), save=name);\n"
   ]
  },
  {
   "cell_type": "code",
   "execution_count": null,
   "metadata": {},
   "outputs": [],
   "source": []
  },
  {
   "cell_type": "code",
   "execution_count": 60,
   "metadata": {},
   "outputs": [
    {
     "data": {
      "image/png": "[encoded data removed]",
      "text/plain": [
       "<Figure size 432x288 with 1 Axes>"
      ]
     },
     "metadata": {},
     "output_type": "display_data"
    }
   ],
   "source": [
    "\n",
    "plt.plot(w_2, label='w_700')\n",
    "plt.plot(div_2, label='div')\n",
    "plt.plot(x_div_2, label='x-div')\n",
    "plt.plot(y_div_2, label='y-div')\n",
    "plt.title(\"RF10 traj 6.0\")\n",
    "plt.legend()\n",
    "plt.grid(True)"
   ]
  },
  {
   "cell_type": "code",
   "execution_count": 59,
   "metadata": {},
   "outputs": [
    {
     "data": {
      "text/plain": [
       "<xarray.DataArray 'ERA_dudx' (time: 73, level: 37)>\n",
       "array([[-5.932778e-06,  9.973365e-06,  3.082385e-06, ...,  5.726207e-06,\n",
       "         6.289273e-06,  6.482892e-06],\n",
       "       [-3.247789e-06,  1.204589e-05,  2.877339e-06, ...,  5.862425e-06,\n",
       "         5.693290e-06,  5.813701e-06],\n",
       "       [-1.831463e-06,  1.058339e-05,  4.449846e-06, ...,  6.535447e-06,\n",
       "         6.989230e-06,  7.045980e-06],\n",
       "       ...,\n",
       "       [-1.465608e-05,  1.533072e-05,  7.041810e-06, ..., -1.276544e-05,\n",
       "        -9.624862e-06, -8.627950e-06],\n",
       "       [-1.791384e-05,  1.301532e-05,  7.935292e-06, ..., -1.534847e-05,\n",
       "        -1.016193e-05, -8.725163e-06],\n",
       "       [-1.167616e-05,  2.798366e-06,  3.194928e-06, ..., -1.704105e-05,\n",
       "        -1.143606e-05, -9.385522e-06]])\n",
       "Coordinates:\n",
       "  * time     (time) datetime64[ns] 2015-07-27T16:00:00 2015-07-27T17:00:00 ...\n",
       "  * level    (level) float64 1.0 2.0 3.0 5.0 7.0 10.0 20.0 30.0 50.0 70.0 ...\n",
       "Attributes:\n",
       "    dependencies:  ERA_u\n",
       "    long_name:     eastward_gradient_of_zonal_wind\n",
       "    units:         m s**-1 m**-1"
      ]
     },
     "execution_count": 59,
     "metadata": {},
     "output_type": "execute_result"
    }
   ],
   "source": [
    "data2.ERA_dudx"
   ]
  }
 ],
 "metadata": {
  "kernelspec": {
   "display_name": "Python [default]",
   "language": "python",
   "name": "python3"
  },
  "language_info": {
   "codemirror_mode": {
    "name": "ipython",
    "version": 3
   },
   "file_extension": ".py",
   "mimetype": "text/x-python",
   "name": "python",
   "nbconvert_exporter": "python",
   "pygments_lexer": "ipython3",
   "version": "3.5.5"
  }
 },
 "nbformat": 4,
 "nbformat_minor": 2
}
