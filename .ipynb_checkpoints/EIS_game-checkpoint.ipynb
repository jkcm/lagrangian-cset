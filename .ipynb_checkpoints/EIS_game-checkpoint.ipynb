{
 "cells": [
  {
   "cell_type": "code",
   "execution_count": null,
   "metadata": {},
   "outputs": [],
   "source": [
    "from CSET_data_classes import CSET_Flight\n",
    "import matplotlib.pyplot as plt\n",
    "from scipy.stats import linregress\n",
    "%load_ext autoreload\n",
    "%autoreload 2"
   ]
  },
  {
   "cell_type": "code",
   "execution_count": null,
   "metadata": {},
   "outputs": [],
   "source": [
    "def get_EIS_from_profile(profile):\n",
    "    i_1000 = np.nonzero(abs(profile['PSXC']-1000)<10)[0]\n",
    "    i_850 = np.nonzero(abs(profile['PSXC']-850)<10)[0]\n",
    "    i_700 = np.nonzero(abs(profile['PSXC']-700)<10)[0]\n",
    "    \n",
    "    t_1000 = np.nanmean(profile['ATX'][i_1000])\n",
    "    t_850 = np.nanmean(profile['ATX'][i_850])\n",
    "    t_700 = np.nanmean(profile['ATX'][i_700])\n",
    "    z_1000 = np.nanmean(profile['GGALT'][i_1000])\n",
    "    z_700 = np.nanmean(profile['GGALT'][i_700])\n",
    "    r_1000 = np.nanmean(profile['RHUM'][i_1000])\n",
    "    \n",
    "    return mu.calculate_EIS(t_1000, t_850, t_700, z_1000, z_700, r_1000)"
   ]
  },
  {
   "cell_type": "code",
   "execution_count": 4,
   "metadata": {},
   "outputs": [
    {
     "name": "stdout",
     "output_type": "stream",
     "text": [
      "<class 'xarray.core.dataset.Dataset'>\n",
      "in utils rn\n",
      "Coordinates:\n",
      "  * time                    (time) datetime64[ns] 2015-07-01T17:25:00 ... 2015-07-01T22:25:00\n",
      "  * interarrival_endpoints  (interarrival_endpoints) float32 1e-07 ... 10.0\n",
      "    leg                     (time) <U1 '' '' '' '' '' '' ... '' '' '' '' '' ''\n",
      "    sequence                (time) <U1 '' '' '' '' '' '' ... '' '' '' '' '' ''\n",
      "in CSET_data_classes!\n",
      "Coordinates:\n",
      "  * time                    (time) datetime64[ns] 2015-07-01T17:25:00 ... 2015-07-01T22:25:00\n",
      "  * interarrival_endpoints  (interarrival_endpoints) float32 1e-07 ... 10.0\n",
      "RF01\n",
      "Coordinates:\n",
      "  * time                    (time) datetime64[ns] 2015-07-01T17:25:00 ... 2015-07-01T22:25:00\n",
      "  * interarrival_endpoints  (interarrival_endpoints) float32 1e-07 ... 10.0\n",
      "leg/sequence labels not added\n"
     ]
    },
    {
     "ename": "AttributeError",
     "evalue": "'NoneType' object has no attribute 'values'",
     "output_type": "error",
     "traceback": [
      "\u001b[0;31m---------------------------------------------------------------------------\u001b[0m",
      "\u001b[0;31mAttributeError\u001b[0m                            Traceback (most recent call last)",
      "\u001b[0;32m<ipython-input-4-b9af6a046c85>\u001b[0m in \u001b[0;36m<module>\u001b[0;34m\u001b[0m\n\u001b[1;32m      9\u001b[0m     \u001b[0mf\u001b[0m\u001b[0;34m.\u001b[0m\u001b[0madd_AVAPS_data\u001b[0m\u001b[0;34m(\u001b[0m\u001b[0;34m)\u001b[0m\u001b[0;34m\u001b[0m\u001b[0;34m\u001b[0m\u001b[0m\n\u001b[1;32m     10\u001b[0m     \u001b[0mprofs\u001b[0m \u001b[0;34m=\u001b[0m \u001b[0mf\u001b[0m\u001b[0;34m.\u001b[0m\u001b[0mget_profiles\u001b[0m\u001b[0;34m(\u001b[0m\u001b[0;34m)\u001b[0m\u001b[0;34m\u001b[0m\u001b[0;34m\u001b[0m\u001b[0m\n\u001b[0;32m---> 11\u001b[0;31m     \u001b[0;32mfor\u001b[0m \u001b[0mp\u001b[0m \u001b[0;32min\u001b[0m \u001b[0mprofs\u001b[0m\u001b[0;34m.\u001b[0m\u001b[0mvalues\u001b[0m\u001b[0;34m(\u001b[0m\u001b[0;34m)\u001b[0m\u001b[0;34m:\u001b[0m\u001b[0;34m\u001b[0m\u001b[0;34m\u001b[0m\u001b[0m\n\u001b[0m\u001b[1;32m     12\u001b[0m         \u001b[0mprof_time\u001b[0m \u001b[0;34m=\u001b[0m \u001b[0mp\u001b[0m\u001b[0;34m[\u001b[0m\u001b[0;34m'data'\u001b[0m\u001b[0;34m]\u001b[0m\u001b[0;34m.\u001b[0m\u001b[0mtime\u001b[0m\u001b[0;34m[\u001b[0m\u001b[0;36m0\u001b[0m\u001b[0;34m]\u001b[0m\u001b[0;34m.\u001b[0m\u001b[0mvalues\u001b[0m\u001b[0;34m\u001b[0m\u001b[0;34m\u001b[0m\u001b[0m\n\u001b[1;32m     13\u001b[0m         \u001b[0mERA_EIS\u001b[0m \u001b[0;34m=\u001b[0m \u001b[0mf\u001b[0m\u001b[0;34m.\u001b[0m\u001b[0mERA_data\u001b[0m\u001b[0;34m.\u001b[0m\u001b[0msel\u001b[0m\u001b[0;34m(\u001b[0m\u001b[0mmethod\u001b[0m\u001b[0;34m=\u001b[0m\u001b[0;34m'nearest'\u001b[0m\u001b[0;34m,\u001b[0m \u001b[0mtime\u001b[0m\u001b[0;34m=\u001b[0m\u001b[0mp\u001b[0m\u001b[0;34m[\u001b[0m\u001b[0;34m'data'\u001b[0m\u001b[0;34m]\u001b[0m\u001b[0;34m.\u001b[0m\u001b[0mtime\u001b[0m\u001b[0;34m[\u001b[0m\u001b[0;36m0\u001b[0m\u001b[0;34m]\u001b[0m\u001b[0;34m.\u001b[0m\u001b[0mvalues\u001b[0m\u001b[0;34m)\u001b[0m\u001b[0;34m.\u001b[0m\u001b[0mERA_EIS\u001b[0m\u001b[0;34m.\u001b[0m\u001b[0mvalues\u001b[0m\u001b[0;34m.\u001b[0m\u001b[0mitem\u001b[0m\u001b[0;34m(\u001b[0m\u001b[0;34m)\u001b[0m\u001b[0;34m\u001b[0m\u001b[0;34m\u001b[0m\u001b[0m\n",
      "\u001b[0;31mAttributeError\u001b[0m: 'NoneType' object has no attribute 'values'"
     ]
    }
   ],
   "source": [
    "all_ERA_EIS, all_flight_EIS = [], []\n",
    "\n",
    "for i in range(15):\n",
    "    f = CSET_Flight('RF{:02d}'.format(i+1))\n",
    "    print('RF{:02d}'.format(i+1))\n",
    "#     f.add_legs()\n",
    "    f.add_ERA_data()\n",
    "    print(f.flight_data.coords)\n",
    "    f.add_AVAPS_data()\n",
    "    profs = f.get_profiles()\n",
    "    for p in profs.values():\n",
    "        prof_time = p['data'].time[0].values\n",
    "        ERA_EIS = f.ERA_data.sel(method='nearest', time=p['data'].time[0].values).ERA_EIS.values.item()\n",
    "        flight_EIS = get_EIS_from_profile(p['sounding'])\n",
    "        all_ERA_EIS.append(ERA_EIS)\n",
    "        all_flight_EIS.append(flight_EIS)\n",
    "\n",
    "    for (d,sounding) in f.AVAPS_profiles.items():\n",
    "        ERA_EIS = f.ERA_data.sel(method='nearest', time=d.replace(tzinfo=None)).ERA_EIS.values.item()\n",
    "        sounding['PSXC'] = sounding['PSX']\n",
    "        flight_EIS = get_EIS_from_profile(sounding)\n",
    "        all_ERA_EIS.append(ERA_EIS)\n",
    "        all_flight_EIS.append(flight_EIS)"
   ]
  },
  {
   "cell_type": "code",
   "execution_count": null,
   "metadata": {},
   "outputs": [],
   "source": [
    "fig, ax = plt.subplots()\n",
    "\n",
    "ax.plot(all_flight_EIS, all_ERA_EIS, '.')\n",
    "ax.set_xlabel('aircraft/dropsonde EIS (K)')\n",
    "ax.set_ylabel('ERA EIS (K)')\n",
    "ax.plot([-3,12], [-3,12], '--', color='k')\n",
    "ax.set_ylim([-3, 12])\n",
    "ax.set_xlim([-3, 12])\n",
    "ax.set_yticks([0, 4, 8, 12])\n",
    "ax.set_xticks([0, 4, 8, 12])\n",
    "\n",
    "ax.grid(True)\n",
    "\n",
    "ax.set_title('Aircraft/Dropsonde to ERA EIS comparison')\n",
    "fig.savefig('/home/disk/p/jkcm/plots/EIS_AC_ERA_comparison.png',dpi=300, bbox_inches='tight')"
   ]
  },
  {
   "cell_type": "code",
   "execution_count": 1,
   "metadata": {},
   "outputs": [
    {
     "ename": "NameError",
     "evalue": "name 'np' is not defined",
     "output_type": "error",
     "traceback": [
      "\u001b[0;31m---------------------------------------------------------------------------\u001b[0m",
      "\u001b[0;31mNameError\u001b[0m                                 Traceback (most recent call last)",
      "\u001b[0;32m<ipython-input-1-b5d5a7530984>\u001b[0m in \u001b[0;36m<module>\u001b[0;34m()\u001b[0m\n\u001b[0;32m----> 1\u001b[0;31m \u001b[0mmask\u001b[0m\u001b[0;34m=\u001b[0m \u001b[0mnp\u001b[0m\u001b[0;34m.\u001b[0m\u001b[0mlogical_and\u001b[0m\u001b[0;34m(\u001b[0m\u001b[0;34m~\u001b[0m\u001b[0mnp\u001b[0m\u001b[0;34m.\u001b[0m\u001b[0misnan\u001b[0m\u001b[0;34m(\u001b[0m\u001b[0mall_flight_EIS\u001b[0m\u001b[0;34m)\u001b[0m\u001b[0;34m,\u001b[0m \u001b[0;34m~\u001b[0m\u001b[0mnp\u001b[0m\u001b[0;34m.\u001b[0m\u001b[0misnan\u001b[0m\u001b[0;34m(\u001b[0m\u001b[0mall_ERA_EIS\u001b[0m\u001b[0;34m)\u001b[0m\u001b[0;34m)\u001b[0m\u001b[0;34m\u001b[0m\u001b[0m\n\u001b[0m\u001b[1;32m      2\u001b[0m \u001b[0mlinregress\u001b[0m\u001b[0;34m(\u001b[0m\u001b[0mnp\u001b[0m\u001b[0;34m.\u001b[0m\u001b[0marray\u001b[0m\u001b[0;34m(\u001b[0m\u001b[0mall_flight_EIS\u001b[0m\u001b[0;34m)\u001b[0m\u001b[0;34m[\u001b[0m\u001b[0mmask\u001b[0m\u001b[0;34m]\u001b[0m\u001b[0;34m,\u001b[0m \u001b[0mnp\u001b[0m\u001b[0;34m.\u001b[0m\u001b[0marray\u001b[0m\u001b[0;34m(\u001b[0m\u001b[0mall_ERA_EIS\u001b[0m\u001b[0;34m)\u001b[0m\u001b[0;34m[\u001b[0m\u001b[0mmask\u001b[0m\u001b[0;34m]\u001b[0m\u001b[0;34m)\u001b[0m\u001b[0;34m\u001b[0m\u001b[0m\n",
      "\u001b[0;31mNameError\u001b[0m: name 'np' is not defined"
     ]
    }
   ],
   "source": [
    "mask= np.logical_and(~np.isnan(all_flight_EIS), ~np.isnan(all_ERA_EIS))\n",
    "linregress(np.array(all_flight_EIS)[mask], np.array(all_ERA_EIS)[mask])"
   ]
  },
  {
   "cell_type": "code",
   "execution_count": null,
   "metadata": {},
   "outputs": [],
   "source": [
    "#get all "
   ]
  }
 ],
 "metadata": {
  "kernelspec": {
   "display_name": "py37",
   "language": "python",
   "name": "py37"
  },
  "language_info": {
   "codemirror_mode": {
    "name": "ipython",
    "version": 3
   },
   "file_extension": ".py",
   "mimetype": "text/x-python",
   "name": "python",
   "nbconvert_exporter": "python",
   "pygments_lexer": "ipython3",
   "version": "3.7.4"
  }
 },
 "nbformat": 4,
 "nbformat_minor": 4
}
