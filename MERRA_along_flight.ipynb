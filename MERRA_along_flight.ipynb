{
 "cells": [
  {
   "cell_type": "markdown",
   "metadata": {},
   "source": [
    "1) unify aer, asm, chm \n",
    "    svc_MERRA2_400.inst3_3d_aer_Nv.20150627.nc4\n",
    "        MERRA2_400.inst3_3d_chm_Nv.20150701.SUB.nc\n",
    "        MERRA2_400.inst3_3d_asm_Nv.20150623.SUB.nc\n",
    "        \n",
    "2) load flight path        \n",
    "3) extract along flight path based on pressure"
   ]
  },
  {
   "cell_type": "code",
   "execution_count": 53,
   "metadata": {},
   "outputs": [
    {
     "name": "stdout",
     "output_type": "stream",
     "text": [
      "The autoreload extension is already loaded. To reload it, use:\n",
      "  %reload_ext autoreload\n"
     ]
    }
   ],
   "source": [
    "import datetime as dt\n",
    "import sys\n",
    "from subprocess import check_output\n",
    "import os\n",
    "import xarray as xr\n",
    "\n",
    "%load_ext autoreload\n",
    "%autoreload 2"
   ]
  },
  {
   "cell_type": "code",
   "execution_count": 52,
   "metadata": {},
   "outputs": [],
   "source": [
    "date_range = [dt.datetime(2015, 6, 20) + dt.timedelta(days=i) for i in range(73)]\n",
    "for date in date_range:\n",
    "    aer_file = r'/home/disk/eos4/jkcm/Data/CSET/MERRA/aer_Nv/svc_MERRA2_400.inst3_3d_aer_Nv.{:%Y%m%d}.nc4'.format(date)\n",
    "    chm_file = r'/home/disk/eos4/jkcm/Data/CSET/MERRA/chm_Nv/MERRA2_400.inst3_3d_chm_Nv.{:%Y%m%d}.SUB.nc'.format(date)\n",
    "    asm_file = r'/home/disk/eos4/jkcm/Data/CSET/MERRA/asm_Nv/MERRA2_400.inst3_3d_asm_Nv.{:%Y%m%d}.SUB.nc'.format(date)\n",
    "    unified_file = r'/home/disk/eos4/jkcm/Data/CSET/MERRA/unified/MERRA.unified.{:%Y%m%d}.nc4'.format(date)\n",
    "    for f in [aer_file, chm_file, asm_file]:\n",
    "        if not os.path.exists(f):\n",
    "            print(f)\n",
    "    cdo_call = 'cdo merge {} {} {} {}'.format(aer_file, chm_file, asm_file, unified_file)\n",
    "#     print(cdo_call)\n",
    "#     check_output(cdo_call, shell=True, cwd = '/home/disk/p/jkcm')\n"
   ]
  },
  {
   "cell_type": "code",
   "execution_count": 62,
   "metadata": {},
   "outputs": [],
   "source": [
    "\n",
    "files = [os.path.join(r'/home/disk/eos4/jkcm/Data/CSET/MERRA/unified', i) for i in os.listdir(r'/home/disk/eos4/jkcm/Data/CSET/MERRA/unified')]\n",
    "\n",
    "with xr.open_mfdataset(files) as data:\n",
    "    pass"
   ]
  },
  {
   "cell_type": "code",
   "execution_count": 61,
   "metadata": {},
   "outputs": [
    {
     "data": {
      "text/plain": [
       "['/home/disk/eos4/jkcm/Data/CSET/MERRA/unified/MERRA.unified.20150620.nc4',\n",
       " '/home/disk/eos4/jkcm/Data/CSET/MERRA/unified/MERRA.unified.20150621.nc4',\n",
       " '/home/disk/eos4/jkcm/Data/CSET/MERRA/unified/MERRA.unified.20150622.nc4',\n",
       " '/home/disk/eos4/jkcm/Data/CSET/MERRA/unified/MERRA.unified.20150623.nc4',\n",
       " '/home/disk/eos4/jkcm/Data/CSET/MERRA/unified/MERRA.unified.20150624.nc4',\n",
       " '/home/disk/eos4/jkcm/Data/CSET/MERRA/unified/MERRA.unified.20150625.nc4',\n",
       " '/home/disk/eos4/jkcm/Data/CSET/MERRA/unified/MERRA.unified.20150626.nc4',\n",
       " '/home/disk/eos4/jkcm/Data/CSET/MERRA/unified/MERRA.unified.20150627.nc4',\n",
       " '/home/disk/eos4/jkcm/Data/CSET/MERRA/unified/MERRA.unified.20150628.nc4',\n",
       " '/home/disk/eos4/jkcm/Data/CSET/MERRA/unified/MERRA.unified.20150629.nc4',\n",
       " '/home/disk/eos4/jkcm/Data/CSET/MERRA/unified/MERRA.unified.20150630.nc4',\n",
       " '/home/disk/eos4/jkcm/Data/CSET/MERRA/unified/MERRA.unified.20150701.nc4',\n",
       " '/home/disk/eos4/jkcm/Data/CSET/MERRA/unified/MERRA.unified.20150702.nc4',\n",
       " '/home/disk/eos4/jkcm/Data/CSET/MERRA/unified/MERRA.unified.20150703.nc4',\n",
       " '/home/disk/eos4/jkcm/Data/CSET/MERRA/unified/MERRA.unified.20150704.nc4',\n",
       " '/home/disk/eos4/jkcm/Data/CSET/MERRA/unified/MERRA.unified.20150705.nc4',\n",
       " '/home/disk/eos4/jkcm/Data/CSET/MERRA/unified/MERRA.unified.20150706.nc4',\n",
       " '/home/disk/eos4/jkcm/Data/CSET/MERRA/unified/MERRA.unified.20150707.nc4',\n",
       " '/home/disk/eos4/jkcm/Data/CSET/MERRA/unified/MERRA.unified.20150708.nc4',\n",
       " '/home/disk/eos4/jkcm/Data/CSET/MERRA/unified/MERRA.unified.20150709.nc4',\n",
       " '/home/disk/eos4/jkcm/Data/CSET/MERRA/unified/MERRA.unified.20150710.nc4',\n",
       " '/home/disk/eos4/jkcm/Data/CSET/MERRA/unified/MERRA.unified.20150711.nc4',\n",
       " '/home/disk/eos4/jkcm/Data/CSET/MERRA/unified/MERRA.unified.20150712.nc4',\n",
       " '/home/disk/eos4/jkcm/Data/CSET/MERRA/unified/MERRA.unified.20150713.nc4',\n",
       " '/home/disk/eos4/jkcm/Data/CSET/MERRA/unified/MERRA.unified.20150714.nc4',\n",
       " '/home/disk/eos4/jkcm/Data/CSET/MERRA/unified/MERRA.unified.20150715.nc4',\n",
       " '/home/disk/eos4/jkcm/Data/CSET/MERRA/unified/MERRA.unified.20150716.nc4',\n",
       " '/home/disk/eos4/jkcm/Data/CSET/MERRA/unified/MERRA.unified.20150717.nc4',\n",
       " '/home/disk/eos4/jkcm/Data/CSET/MERRA/unified/MERRA.unified.20150718.nc4',\n",
       " '/home/disk/eos4/jkcm/Data/CSET/MERRA/unified/MERRA.unified.20150719.nc4',\n",
       " '/home/disk/eos4/jkcm/Data/CSET/MERRA/unified/MERRA.unified.20150720.nc4',\n",
       " '/home/disk/eos4/jkcm/Data/CSET/MERRA/unified/MERRA.unified.20150721.nc4',\n",
       " '/home/disk/eos4/jkcm/Data/CSET/MERRA/unified/MERRA.unified.20150722.nc4',\n",
       " '/home/disk/eos4/jkcm/Data/CSET/MERRA/unified/MERRA.unified.20150723.nc4',\n",
       " '/home/disk/eos4/jkcm/Data/CSET/MERRA/unified/MERRA.unified.20150724.nc4',\n",
       " '/home/disk/eos4/jkcm/Data/CSET/MERRA/unified/MERRA.unified.20150725.nc4',\n",
       " '/home/disk/eos4/jkcm/Data/CSET/MERRA/unified/MERRA.unified.20150726.nc4',\n",
       " '/home/disk/eos4/jkcm/Data/CSET/MERRA/unified/MERRA.unified.20150727.nc4',\n",
       " '/home/disk/eos4/jkcm/Data/CSET/MERRA/unified/MERRA.unified.20150728.nc4',\n",
       " '/home/disk/eos4/jkcm/Data/CSET/MERRA/unified/MERRA.unified.20150729.nc4',\n",
       " '/home/disk/eos4/jkcm/Data/CSET/MERRA/unified/MERRA.unified.20150730.nc4',\n",
       " '/home/disk/eos4/jkcm/Data/CSET/MERRA/unified/MERRA.unified.20150731.nc4',\n",
       " '/home/disk/eos4/jkcm/Data/CSET/MERRA/unified/MERRA.unified.20150801.nc4',\n",
       " '/home/disk/eos4/jkcm/Data/CSET/MERRA/unified/MERRA.unified.20150802.nc4',\n",
       " '/home/disk/eos4/jkcm/Data/CSET/MERRA/unified/MERRA.unified.20150803.nc4',\n",
       " '/home/disk/eos4/jkcm/Data/CSET/MERRA/unified/MERRA.unified.20150804.nc4',\n",
       " '/home/disk/eos4/jkcm/Data/CSET/MERRA/unified/MERRA.unified.20150805.nc4',\n",
       " '/home/disk/eos4/jkcm/Data/CSET/MERRA/unified/MERRA.unified.20150806.nc4',\n",
       " '/home/disk/eos4/jkcm/Data/CSET/MERRA/unified/MERRA.unified.20150807.nc4',\n",
       " '/home/disk/eos4/jkcm/Data/CSET/MERRA/unified/MERRA.unified.20150808.nc4',\n",
       " '/home/disk/eos4/jkcm/Data/CSET/MERRA/unified/MERRA.unified.20150809.nc4',\n",
       " '/home/disk/eos4/jkcm/Data/CSET/MERRA/unified/MERRA.unified.20150810.nc4',\n",
       " '/home/disk/eos4/jkcm/Data/CSET/MERRA/unified/MERRA.unified.20150811.nc4',\n",
       " '/home/disk/eos4/jkcm/Data/CSET/MERRA/unified/MERRA.unified.20150812.nc4',\n",
       " '/home/disk/eos4/jkcm/Data/CSET/MERRA/unified/MERRA.unified.20150813.nc4',\n",
       " '/home/disk/eos4/jkcm/Data/CSET/MERRA/unified/MERRA.unified.20150814.nc4',\n",
       " '/home/disk/eos4/jkcm/Data/CSET/MERRA/unified/MERRA.unified.20150815.nc4',\n",
       " '/home/disk/eos4/jkcm/Data/CSET/MERRA/unified/MERRA.unified.20150816.nc4',\n",
       " '/home/disk/eos4/jkcm/Data/CSET/MERRA/unified/MERRA.unified.20150817.nc4',\n",
       " '/home/disk/eos4/jkcm/Data/CSET/MERRA/unified/MERRA.unified.20150818.nc4',\n",
       " '/home/disk/eos4/jkcm/Data/CSET/MERRA/unified/MERRA.unified.20150819.nc4',\n",
       " '/home/disk/eos4/jkcm/Data/CSET/MERRA/unified/MERRA.unified.20150820.nc4',\n",
       " '/home/disk/eos4/jkcm/Data/CSET/MERRA/unified/MERRA.unified.20150821.nc4',\n",
       " '/home/disk/eos4/jkcm/Data/CSET/MERRA/unified/MERRA.unified.20150822.nc4',\n",
       " '/home/disk/eos4/jkcm/Data/CSET/MERRA/unified/MERRA.unified.20150823.nc4',\n",
       " '/home/disk/eos4/jkcm/Data/CSET/MERRA/unified/MERRA.unified.20150824.nc4',\n",
       " '/home/disk/eos4/jkcm/Data/CSET/MERRA/unified/MERRA.unified.20150825.nc4',\n",
       " '/home/disk/eos4/jkcm/Data/CSET/MERRA/unified/MERRA.unified.20150826.nc4',\n",
       " '/home/disk/eos4/jkcm/Data/CSET/MERRA/unified/MERRA.unified.20150827.nc4',\n",
       " '/home/disk/eos4/jkcm/Data/CSET/MERRA/unified/MERRA.unified.20150828.nc4',\n",
       " '/home/disk/eos4/jkcm/Data/CSET/MERRA/unified/MERRA.unified.20150829.nc4',\n",
       " '/home/disk/eos4/jkcm/Data/CSET/MERRA/unified/MERRA.unified.20150830.nc4',\n",
       " '/home/disk/eos4/jkcm/Data/CSET/MERRA/unified/MERRA.unified.20150831.nc4']"
      ]
     },
     "execution_count": 61,
     "metadata": {},
     "output_type": "execute_result"
    }
   ],
   "source": [
    "files"
   ]
  },
  {
   "cell_type": "code",
   "execution_count": null,
   "metadata": {},
   "outputs": [],
   "source": []
  }
 ],
 "metadata": {
  "kernelspec": {
   "display_name": "Python [default]",
   "language": "python",
   "name": "python3"
  },
  "language_info": {
   "codemirror_mode": {
    "name": "ipython",
    "version": 3
   },
   "file_extension": ".py",
   "mimetype": "text/x-python",
   "name": "python",
   "nbconvert_exporter": "python",
   "pygments_lexer": "ipython3",
   "version": "3.5.6"
  }
 },
 "nbformat": 4,
 "nbformat_minor": 2
}
