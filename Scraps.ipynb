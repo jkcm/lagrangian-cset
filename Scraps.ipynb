{
 "cells": [
  {
   "cell_type": "markdown",
   "metadata": {},
   "source": [
    "## Misc assortment of code snippets I should hang on to"
   ]
  },
  {
   "cell_type": "code",
   "execution_count": 4,
   "metadata": {},
   "outputs": [
    {
     "name": "stdout",
     "output_type": "stream",
     "text": [
      "The autoreload extension is already loaded. To reload it, use:\n",
      "  %reload_ext autoreload\n"
     ]
    }
   ],
   "source": [
    "%matplotlib inline\n",
    "from matplotlib import rcParams, dates\n",
    "rcParams['figure.figsize'] = 4,2\n",
    "import numpy as np\n",
    "import matplotlib.pyplot as plt\n",
    "import configuration as config\n",
    "import lagrangian_case as lcase\n",
    "from scipy.io import loadmat\n",
    "import utils\n",
    "import os\n",
    "from glob import glob\n",
    "#%aimport matplotlib\n",
    "%load_ext autoreload\n",
    "%autoreload 2"
   ]
  },
  {
   "cell_type": "markdown",
   "metadata": {},
   "source": [
    "#### Parse all aircraft Lagrangians from Virendra's files and make them into ALC objects"
   ]
  },
  {
   "cell_type": "code",
   "execution_count": 3,
   "metadata": {},
   "outputs": [
    {
     "name": "stderr",
     "output_type": "stream",
     "text": [
      "/home/disk/p/jkcm/Code/Lagrangian_CSET/utils.py:318: UserWarning: NOTE: usage change Feb 2018: sequences now refers to flight sequence (A,B,...) and legs refers to portion of flight ('b', 'p'), etc. see docstring\n",
      "  warnings.warn(\"NOTE: usage change Feb 2018: sequences now refers to flight sequence (A,B,...) \"\n",
      "/home/disk/p/jkcm/anaconda3/lib/python3.5/site-packages/xlrd/sheet.py:531: VisibleDeprecationWarning: converting an array with ndim > 0 to an index will result in an error in the future\n",
      "  for rowx in xrange(start_rowx, end_rowx)\n",
      "/home/disk/p/jkcm/anaconda3/lib/python3.5/site-packages/xlrd/sheet.py:401: VisibleDeprecationWarning: converting an array with ndim > 0 to an index will result in an error in the future\n",
      "  self._cell_types[rowx][colx],\n",
      "/home/disk/p/jkcm/anaconda3/lib/python3.5/site-packages/xlrd/sheet.py:402: VisibleDeprecationWarning: converting an array with ndim > 0 to an index will result in an error in the future\n",
      "  self._cell_values[rowx][colx],\n"
     ]
    }
   ],
   "source": [
    "virendra_file = r'/home/disk/eos4/jkcm/Data/CSET/virendra/cset_boxplot_vars.mat'\n",
    "vir = loadmat(virendra_file)\n",
    "pairs = [(vir['names'][0][i][0], vir['names'][1][i][0]) for i in range(18)]\n",
    "# [vir['names'][0][i][0] for i in range(18)]\n",
    "pairs = [(vir['names'][0][i][0], vir['names'][1][i][0]) for i in range(18)]\n",
    "cases = []\n",
    "for p in pairs:\n",
    "    out_flight = '{:02d}'.format(int(''.join([i for i in p[0] if i.isdigit()])))\n",
    "    out_seqs = ''.join([i.upper() for i in p[0] if not i.isdigit()])\n",
    "    ret_flight = '{:02d}'.format(int(''.join([i for i in p[1] if i.isdigit()])))\n",
    "    ret_seqs = ''.join([i.upper() for i in p[1] if not i.isdigit()])\n",
    "    casename = \"ALC_RF{}{}/RF{}{}\".format(out_flight, out_seqs, ret_flight, ret_seqs)\n",
    "    case = lcase.AircraftCase(casename)\n",
    "    cases.append(case)"
   ]
  },
  {
   "cell_type": "markdown",
   "metadata": {},
   "source": [
    "#### Load a flight and plot its altitude"
   ]
  },
  {
   "cell_type": "code",
   "execution_count": 4,
   "metadata": {},
   "outputs": [
    {
     "data": {
      "image/png": "[encoded data removed]",
      "text/plain": [
       "<matplotlib.figure.Figure at 0x7fc2ac4e3630>"
      ]
     },
     "metadata": {},
     "output_type": "display_data"
    }
   ],
   "source": [
    "flight = 'RF13'\n",
    "f, a = plt.subplots()\n",
    "floc = glob('/home/disk/eos4/jkcm/Data/CSET/flight_data/' + flight + '*.nc')[0]\n",
    "flight = utils.read_flightpath(floc)\n",
    "a.plot(flight['date'], flight['alt'])\n",
    "a.xaxis.set_minor_locator(dates.MinuteLocator(interval=5))\n",
    "a.grid(b=True, which='minor')"
   ]
  },
  {
   "cell_type": "markdown",
   "metadata": {},
   "source": [
    "#### Merge ERA files by date"
   ]
  },
  {
   "cell_type": "code",
   "execution_count": 14,
   "metadata": {},
   "outputs": [],
   "source": [
    "g = sorted(glob(\"/home/disk/eos4/jkcm/Data/CSET/ERA5/flux/ERA5.flux.NEP.*.nc\"))\n",
    "\n",
    "# g2 = sorted(glob(\"/home/disk/eos4/jkcm/Data/CSET/ERA5/ERA5.sfc.NEP.*.nc\"))\n",
    "g2 = [os.path.join('/home/disk/eos4/jkcm/Data/CSET/ERA5/', os.path.basename(i).replace('flux', 'sfc')) for i in g]\n",
    "newfiles = [\"/home/disk/eos4/jkcm/Data/CSET/ERA5/flux/{}\".format(os.path.basename(i)) for i in g2]\n",
    "\n",
    "assert len(g2) == len(g)\n",
    "assert np.all([i[1][-5:-3] == j[1][-5:-3] for (i, j) in zip(g, g2)])\n",
    "\n",
    "for i, (z, pres, new) in enumerate(zip(g, g2, newfiles)):\n",
    "#         if i > 33:\n",
    "    os.system(\"cdo merge {} {} {}\".format(z, pres, new))\n"
   ]
  },
  {
   "cell_type": "markdown",
   "metadata": {},
   "source": [
    "#### Rename a bunch of files"
   ]
  },
  {
   "cell_type": "code",
   "execution_count": 11,
   "metadata": {},
   "outputs": [],
   "source": [
    "import os\n",
    "import glob\n",
    "files = glob.glob(r'/home/disk/eos4/jkcm/Data/CSET/Lagrangian_project/trajectory_files/*.nc')\n",
    "for f in files:\n",
    "    newname = \"h_\".join(f.split(\"_h_\"))\n",
    "#     os.rename(f, newname)"
   ]
  }
 ],
 "metadata": {
  "kernelspec": {
   "display_name": "Python [default]",
   "language": "python",
   "name": "python3"
  },
  "language_info": {
   "codemirror_mode": {
    "name": "ipython",
    "version": 3
   },
   "file_extension": ".py",
   "mimetype": "text/x-python",
   "name": "python",
   "nbconvert_exporter": "python",
   "pygments_lexer": "ipython3",
   "version": "3.5.6"
  }
 },
 "nbformat": 4,
 "nbformat_minor": 2
}
