{
 "cells": [
  {
   "cell_type": "code",
   "execution_count": 1,
   "metadata": {},
   "outputs": [],
   "source": [
    "import sys\n",
    "sys.path.insert(0, '/home/disk/p/jkcm/Code')\n",
    "\n",
    "import pandas as pd\n",
    "import datetime as dt\n",
    "import numpy as np\n",
    "from Lagrangian_CSET import met_utils as mu\n",
    "from Lagrangian_CSET import utils\n",
    "from Lagrangian_CSET.CSET_data_classes import CSET_Flight\n",
    "from tools.decorators import timed\n",
    "from tools.LoopTimer import LoopTimer\n",
    "from mpl_toolkits.basemap import Basemap\n",
    "import matplotlib.pyplot as plt\n",
    "import matplotlib as mpl\n",
    "import xarray as xr\n",
    "import glob\n",
    "import seaborn as sns\n",
    "\n",
    "import pickle\n",
    "%load_ext autoreload\n",
    "%autoreload 2"
   ]
  },
  {
   "cell_type": "code",
   "execution_count": 2,
   "metadata": {},
   "outputs": [],
   "source": [
    "f = CSET_Flight('RF07')\n",
    "dataset = f.flight_data"
   ]
  },
  {
   "cell_type": "code",
   "execution_count": 3,
   "metadata": {},
   "outputs": [],
   "source": [
    "lwc_cdp = dataset['PLWCD_LWOI']\n",
    "rhodt = dataset['RHODT']\n",
    "mr = dataset['MR']\n",
    "cheat_airdens = rhodt/mr\n",
    "lwmr_cdp = lwc_cdp/cheat_airdens\n",
    "lw_index = lwmr_cdp > 0.01\n",
    "RH_index = dataset['RHUM'] > 95\n",
    "cloud_index = np.logical_and(RH_index, lw_index)"
   ]
  },
  {
   "cell_type": "code",
   "execution_count": 9,
   "metadata": {},
   "outputs": [
    {
     "data": {
      "text/plain": [
       "[<matplotlib.lines.Line2D at 0x7f70104d8c50>]"
      ]
     },
     "execution_count": 9,
     "metadata": {},
     "output_type": "execute_result"
    },
    {
     "data": {
      "image/png": "[encoded data removed]",
      "text/plain": [
       "<Figure size 432x288 with 2 Axes>"
      ]
     },
     "metadata": {
      "needs_background": "light"
     },
     "output_type": "display_data"
    }
   ],
   "source": [
    "fig, ax = plt.subplots(nrows=2)\n",
    "ax[0].plot(cloud_index)\n",
    "ax[1].plot(dataset.GGALT)"
   ]
  },
  {
   "cell_type": "code",
   "execution_count": 17,
   "metadata": {},
   "outputs": [
    {
     "data": {
      "text/plain": [
       "array(['', '', '', ..., '', '', ''], dtype='<U2')"
      ]
     },
     "execution_count": 17,
     "metadata": {},
     "output_type": "execute_result"
    }
   ],
   "source": [
    "np.core.defchararray.add(dataset.sequence, dataset.leg)"
   ]
  },
  {
   "cell_type": "code",
   "execution_count": 19,
   "metadata": {},
   "outputs": [
    {
     "data": {
      "text/plain": [
       "array(['', 'Aa', 'Ab', 'Ac', 'Ad', 'Ap', 'Au', 'Ba', 'Bb', 'Bc', 'Bd',\n",
       "       'Bp', 'Bu', 'Ca', 'Cb', 'Cc', 'Cd', 'Cp', 'Ct', 'Cu', 'Da', 'Db',\n",
       "       'Dc', 'Dd', 'Dp', 'Du', 'Ea', 'Eb', 'Ec', 'Ed', 'Ep', 'Eu', 'f',\n",
       "       'k', 'm', 'u'], dtype='<U2')"
      ]
     },
     "execution_count": 19,
     "metadata": {},
     "output_type": "execute_result"
    }
   ],
   "source": [
    "np.unique(dataset.legseq)"
   ]
  },
  {
   "cell_type": "code",
   "execution_count": 18,
   "metadata": {},
   "outputs": [],
   "source": [
    "dataset['legseq'] = (('time'), np.core.defchararray.add(dataset.sequence, dataset.leg))"
   ]
  },
  {
   "cell_type": "code",
   "execution_count": 20,
   "metadata": {},
   "outputs": [
    {
     "name": "stdout",
     "output_type": "stream",
     "text": [
      "Ac\n",
      "Ap\n",
      "Bc\n",
      "Bp\n",
      "Cc\n",
      "Cp\n",
      "Dc\n",
      "Dp\n",
      "Ec\n",
      "Ep\n"
     ]
    }
   ],
   "source": [
    "for i in np.unique(dataset.legseq):\n",
    "    if 'p' in i or 'c' in i:\n",
    "        "
   ]
  },
  {
   "cell_type": "code",
   "execution_count": null,
   "metadata": {},
   "outputs": [],
   "source": []
  }
 ],
 "metadata": {
  "kernelspec": {
   "display_name": "measures",
   "language": "python",
   "name": "measures"
  },
  "language_info": {
   "codemirror_mode": {
    "name": "ipython",
    "version": 3
   },
   "file_extension": ".py",
   "mimetype": "text/x-python",
   "name": "python",
   "nbconvert_exporter": "python",
   "pygments_lexer": "ipython3",
   "version": "3.7.3"
  }
 },
 "nbformat": 4,
 "nbformat_minor": 4
}
